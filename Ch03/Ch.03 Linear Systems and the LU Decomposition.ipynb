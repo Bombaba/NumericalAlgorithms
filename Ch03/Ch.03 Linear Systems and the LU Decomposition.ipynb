{
 "cells": [
  {
   "cell_type": "markdown",
   "metadata": {},
   "source": [
    "# 3.6 EXERCISES"
   ]
  },
  {
   "cell_type": "markdown",
   "metadata": {
    "collapsed": true
   },
   "source": [
    "## 3.1\n",
    "\n",
    "** Can all matrices $A \\in \\mathbb{R}^{n \\times n}$ be factored $A = LU$?  Why or why not?**"
   ]
  },
  {
   "cell_type": "markdown",
   "metadata": {
    "collapsed": true
   },
   "source": [
    "No. Normal LU decompostion cannot deal with some matrices (like the one in section 3.2), because in which case a diagonal element becomes 0 while forward-substitution.  However, using permutation matrix $P$ allows factorization to $A = PLU$. "
   ]
  },
  {
   "cell_type": "markdown",
   "metadata": {},
   "source": [
    "## 3.2\n",
    "\n",
    "**Solve the following system of equations using Gaussian elimination, writing the corresponding elimination matrix of each step:$$\n",
    "\\begin{pmatrix}\n",
    "  2 & 4 \\\\\n",
    "  3 & 5 \\\\\n",
    "\\end{pmatrix}\n",
    "\\begin{pmatrix}\n",
    "  x \\\\\n",
    "  y \\\\\n",
    "\\end{pmatrix}\n",
    " = \\begin{pmatrix}\n",
    " 2 \\\\\n",
    " 4 \\\\\n",
    "\\end{pmatrix}\n",
    "$$Factor the matrix on the left-hand side as a product $A = LU$.**"
   ]
  },
  {
   "cell_type": "markdown",
   "metadata": {},
   "source": [
    "Using augmented matrix,\n",
    "\n",
    "\\begin{equation}\n",
    "\\begin{split}\n",
    "  \\left(\\begin{array}{cc|c}\n",
    "    2 & 4 & 2 \\\\\n",
    "    3 & 5 & 4 \\\\\n",
    "  \\end{array}\\right)\n",
    "  &\\rightarrow\n",
    "  \\left(\\begin{array}{cc|c}\n",
    "    2 & 4 & 2 \\\\\n",
    "    0 & -1 & 1 \\\\\n",
    "  \\end{array}\\right) \\qquad\n",
    "  \\left[\\left(\\begin{array}{cc}\n",
    "    1 & 0 \\\\\n",
    "    -3/2 & 1 \\\\\n",
    "  \\end{array}\\right)\\right] \\\\\n",
    "  &\\rightarrow\n",
    "  \\left(\\begin{array}{cc|c}\n",
    "    1 & 2 &  1 \\\\\n",
    "    0 & 1 & -1 \\\\\n",
    "  \\end{array}\\right) \\qquad\n",
    "  \\left[\\left(\\begin{array}{cc}\n",
    "    1/2 & 0 \\\\\n",
    "    0 & -1 \\\\\n",
    "  \\end{array}\\right)\\right] \\\\\n",
    "  &\\rightarrow\n",
    "  \\left(\\begin{array}{cc|c}\n",
    "    1 & 0 & 3 \\\\\n",
    "    0 & 1 & -1 \\\\\n",
    "  \\end{array}\\right) \\qquad\n",
    "  \\left[\\left(\\begin{array}{cc}\n",
    "    1 & -2 \\\\\n",
    "    0 &  1 \\\\\n",
    "  \\end{array}\\right)\\right] \\\\\n",
    "\\end{split}\n",
    "\\end{equation}\n",
    "\n",
    "This process gives us the hint of LU decomposition:\n",
    "\n",
    "\\begin{equation}\n",
    "\\begin{split}\n",
    "  &\\left(\\begin{array}{cc}\n",
    "    1 & 0 \\\\\n",
    "    -3/2 & 1 \\\\\n",
    "  \\end{array}\\right)\n",
    "  \\left(\\begin{array}{cc}\n",
    "    2 & 4 \\\\\n",
    "    3 & 5 \\\\\n",
    "  \\end{array}\\right)\n",
    "  =\n",
    "  \\left(\\begin{array}{cc}\n",
    "    2 & 4 \\\\\n",
    "    0 & -1 \\\\\n",
    "  \\end{array}\\right) \\\\\n",
    "  &\\iff\n",
    "  \\left(\\begin{array}{cc}\n",
    "    2 & 4 \\\\\n",
    "    3 & 5 \\\\\n",
    "  \\end{array}\\right)\n",
    "  =\n",
    "  \\left(\\begin{array}{cc}\n",
    "    1 & 0 \\\\\n",
    "    3/2 & 1 \\\\\n",
    "  \\end{array}\\right)\n",
    "  \\left(\\begin{array}{cc}\n",
    "    2 & 4 \\\\\n",
    "    0 & -1 \\\\\n",
    "  \\end{array}\\right) \\\\\n",
    "\\end{split}\n",
    "\\end{equation}"
   ]
  },
  {
   "cell_type": "markdown",
   "metadata": {},
   "source": [
    "## 3.3\n",
    "\n",
    "**Factor the following matrix $A$ as $A = LU$.$$\n",
    "\\begin{pmatrix}\n",
    "  1 & 2 & 7 \\\\\n",
    "  3 & 5 & -1 \\\\\n",
    "  6 & 1 & 4 \\\\\n",
    "\\end{pmatrix}\n",
    "$$**"
   ]
  },
  {
   "cell_type": "code",
   "execution_count": 15,
   "metadata": {
    "ExecuteTime": {
     "end_time": "2017-11-17T10:34:37.283333Z",
     "start_time": "2017-11-17T10:34:37.262279Z"
    },
    "collapsed": true
   },
   "outputs": [],
   "source": [
    "import numpy as np\n",
    "\n",
    "def lu_without_pivoting(A, compact=False):\n",
    "    \"\"\"Factors A to A = LU\"\"\"\n",
    "    assert A.ndim == 2\n",
    "    A = A.astype(float)\n",
    "    n1, n2 = A.shape\n",
    "    for p in range(n1):\n",
    "        for r in range(p+1, n1):\n",
    "            s = -A[r, p] / A[p, p]\n",
    "            A[r, p] = -s\n",
    "            A[r, p+1:] += s * A[p, p+1:]\n",
    "    if compact:\n",
    "        return A\n",
    "    else:\n",
    "        n_min = min(n1, n2)\n",
    "        L = np.fromfunction(lambda i, j : A*(i > j) + np.eye(n1, n_min),\n",
    "                            shape=(n1, n_min), dtype=float)\n",
    "        U = np.fromfunction(lambda i, j : A*(i <= j),\n",
    "                            shape=(n_min, n2), dtype=float)\n",
    "    return L, U"
   ]
  },
  {
   "cell_type": "code",
   "execution_count": 17,
   "metadata": {
    "ExecuteTime": {
     "end_time": "2017-11-17T10:36:23.282626Z",
     "start_time": "2017-11-17T10:36:23.273577Z"
    }
   },
   "outputs": [
    {
     "name": "stdout",
     "output_type": "stream",
     "text": [
      "L =\n",
      " [[  1.   0.   0.]\n",
      " [  3.   1.   0.]\n",
      " [  6.  11.   1.]]\n",
      "U =\n",
      " [[   1.    2.    7.]\n",
      " [   0.   -1.  -22.]\n",
      " [   0.    0.  204.]]\n"
     ]
    }
   ],
   "source": [
    "A = np.array([\n",
    "    [1, 2, 7],\n",
    "    [3, 5, -1],\n",
    "    [6, 1, 4]\n",
    "])\n",
    "L, U = lu_without_pivoting(A)\n",
    "print(\"L =\\n\", L)\n",
    "print(\"U =\\n\", U)"
   ]
  },
  {
   "cell_type": "markdown",
   "metadata": {},
   "source": [
    "## 3.4\n",
    "\n",
    "**Modify the code in Figure 3.1 to include partial pivoting.**"
   ]
  },
  {
   "cell_type": "code",
   "execution_count": 11,
   "metadata": {
    "ExecuteTime": {
     "end_time": "2017-11-18T01:58:41.170233Z",
     "start_time": "2017-11-18T01:58:41.112027Z"
    },
    "collapsed": true
   },
   "outputs": [],
   "source": [
    "import numpy as np\n",
    "\n",
    "def forward_substitution_pivoting(A, b):\n",
    "    \"\"\" Cnverts a system Ax = b to an upper-triangular system Ux = y.\n",
    "    \n",
    "    Positional arguments:\n",
    "        A -- Invertible numpy array. A.shape == (n, n)\n",
    "        b -- 1-dimensional Numpy array. b.shape == (n, )\n",
    "    \"\"\"\n",
    "    assert A.ndim == 2 and b.ndim == 1 and A.shape[0] == A.shape[1] == b.size\n",
    "    \n",
    "    n = b.size\n",
    "    \n",
    "    # U will be upper triangular at completion.\n",
    "    U = A.astype(float)\n",
    "    y = b.astype(float)\n",
    "    \n",
    "    # Iterate over current pivot row p.\n",
    "    for p in range(n):\n",
    "        pivot = np.argmax(np.absolute(U[p:, p])) + p\n",
    "        if pivot != p:\n",
    "            U[p], U[pivot] = U[pivot].copy(), U[p].copy()\n",
    "            y[p], y[pivot] = y[pivot], y[p]\n",
    "        s = U[p, p]\n",
    "        if s != 0:\n",
    "            y[p] /= s\n",
    "            U[p] /= s\n",
    "\n",
    "            for r in range(p + 1, n):\n",
    "                s = U[r, p]\n",
    "                y[r] -= s * y[p]\n",
    "                U[r] -= s * U[p]\n",
    "    return U, y\n",
    "\n",
    "def backward_substitution(U, y):\n",
    "    \"\"\"Solves upper-triangulate systems Ux = y for x\"\"\"\n",
    "    assert U.ndim == 2 and y.ndim == 1 and U.shape[0] == U.shape[1] == y.size\n",
    "    \n",
    "    n = y.size\n",
    "    x = y.copy()\n",
    "    for p in range(n-1, -1, -1):\n",
    "        x[p] -= U[p, p+1:] @ x[p+1:]\n",
    "    return x"
   ]
  },
  {
   "cell_type": "code",
   "execution_count": 12,
   "metadata": {
    "ExecuteTime": {
     "end_time": "2017-11-18T01:58:42.096739Z",
     "start_time": "2017-11-18T01:58:41.499360Z"
    }
   },
   "outputs": [
    {
     "data": {
      "text/plain": [
       "array([ 1.,  2.,  3.])"
      ]
     },
     "execution_count": 12,
     "metadata": {},
     "output_type": "execute_result"
    }
   ],
   "source": [
    "A = np.array([\n",
    "    [0, 1, -1],\n",
    "    [3, -1, 1],\n",
    "    [1, 1, -2]\n",
    "])\n",
    "b = np.array([-1, 4, -3])\n",
    "backward_substitution(*forward_substitution_pivoting(A, b))"
   ]
  },
  {
   "cell_type": "markdown",
   "metadata": {},
   "source": [
    "## 3.5\n",
    "\n",
    "**The discussion in §3.4.3 includes an example of a 2 × 2 matrix $A$ for which Gaussian elimination without pivoting fails.  In this case, the issue was resolved by introducing partial pivoting.  If exact arithmetic is implemented to alleviate rounding error, does there exist a matrix for which Gaussian elimination fails unless _full_ rather than partial pivoting is implemented? Why or why not?**"
   ]
  },
  {
   "cell_type": "markdown",
   "metadata": {},
   "source": [
    "Yes, Gaussian elimination fails when the matrix is not invertible, such as$$\n",
    "  \\begin{pmatrix}\n",
    "    1 & 1 & 1 & 1  \\\\\n",
    "    0 & 0 & 1 & 1  \\\\\n",
    "    0 & 0 & 1 & 1  \\\\\n",
    "    0 & 0 & 0 & 1  \\\\\n",
    "  \\end{pmatrix}.\n",
    "$$\n",
    "If the matrix is invertible, there must exist a unique solution so that the Gaussian elimination will succeed. "
   ]
  },
  {
   "cell_type": "markdown",
   "metadata": {
    "collapsed": true
   },
   "source": [
    "## 3.6\n",
    "\n",
    "**Numerical algorithms appear in many components of simulation software for quantum physics.  The Schrodinger equation and others involve complex numbers in $\\mathbb{C}$, however, so we must extend the machinery we have developed for solving linear systems of equations to this case.  Recall that a complex number $x \\in \\mathbb{C}$ can be written as $x = a + bi$, where $a, b \\in \\mathbb{R}$ and $i = \\sqrt{-1}$.  Suppose we wish to solve $A\\vec{x} = \\vec{b}$, but now $A \\in \\mathbb{C}^{n \\times n}$ and $x, \\vec{b} \\in \\mathbb{C}^n$.  Explain how a linear solver that takes only _real-valued_ system can be used to solve this equation.**"
   ]
  },
  {
   "cell_type": "markdown",
   "metadata": {},
   "source": [
    "$A$ and $\\vec{x}, \\vec{b}$ can be decomposed into:\n",
    "\n",
    "\\begin{equation}\n",
    "\\begin{split}\n",
    "  A &= A_1 + A_2i, &\\qquad A_1,A_2 \\in \\mathbb{R}^{n\\times n} \\\\\n",
    "  \\vec{x} &= \\vec{x}_1 + \\vec{x}_2i, &\\qquad \\vec{x}_1, \\vec{x}_2 \\in \\mathbb{R}^n \\\\\n",
    "  \\vec{b} &= \\vec{b}_1 + \\vec{b}_2i, &\\qquad \\vec{b}_1, \\vec{b}_2 \\in \\mathbb{R}^n \\\\\n",
    "\\end{split}\n",
    "\\end{equation}\n",
    "\n",
    "Then $A\\vec{x} = \\vec{b}$ can be written as:\n",
    "\n",
    "\\begin{equation}\n",
    "  (A_1 + A_2i)(\\vec{x}_1 + \\vec{x}_2i) = A_1\\vec{x}_1 - A_2\\vec{x}_2 + (A_2\\vec{x}_1 + A_1\\vec{x}_2)i = \\vec{b}_1 + \\vec{b}_2i \\\\\n",
    "\\end{equation}\n",
    "\n",
    "Hence, the linear system we solve is:\n",
    "\n",
    "\\begin{equation}\n",
    "\\begin{split}\n",
    "  A_1\\vec{x}_1 - A_2\\vec{x}_2 &= \\vec{b}_1 \\\\\n",
    "  A_2\\vec{x}_1 + A_1\\vec{x}_2 &= \\vec{b}_2 \\\\\n",
    "\\end{split}\n",
    "\\implies\n",
    "\\begin{pmatrix}\n",
    "  A_1 & -A_2 \\\\\n",
    "  A_2 &  A_1 \\\\\n",
    "\\end{pmatrix}\n",
    "\\begin{pmatrix}\n",
    "  \\vec{x}_1 \\\\\n",
    "  \\vec{x}_2 \\\\\n",
    "\\end{pmatrix}\n",
    "=\n",
    "\\begin{pmatrix}\n",
    "  \\vec{b}_1 \\\\\n",
    "  \\vec{b}_2 \\\\\n",
    "\\end{pmatrix}\n",
    "\\end{equation}\n",
    "\n",
    "This is a $2n\\times2n$ real valued system."
   ]
  },
  {
   "cell_type": "markdown",
   "metadata": {
    "collapsed": true
   },
   "source": [
    "## 3.7\n",
    "\n",
    "**Suppose $A \\in \\mathbb{R}^{n\\times n}$ is invertible.  Show that $A^{-1}$ can be obtained using Gaussian elimination on augumented matrix**\n",
    "\n",
    "\\begin{equation}\n",
    "\\left(\\begin{array}{c|c}\n",
    "  A & I_{n\\times n} \\\\\n",
    "\\end{array}\\right).\n",
    "\\end{equation}"
   ]
  },
  {
   "cell_type": "markdown",
   "metadata": {},
   "source": [
    "The definition of invertible matrix $A^{-1}$ is\n",
    "\n",
    "\\begin{equation}\n",
    "  AA^{-1} = I_{n\\times n}\n",
    "\\end{equation}\n",
    "\n",
    "By writing $A^{-1} = (\\vec{x_1}, \\vec{x_2}, \\dots, \\vec{x_n})$ and $I_{n\\times n} = (\\vec{e_1}, \\vec{e_2}, \\dots \\vec{e_n})$, we can decompose this linear system to\n",
    "\n",
    "\\begin{equation}\n",
    "  A\\vec{x}_k = \\vec{e}_k, \\qquad (k = 1, 2, \\dots, n)\n",
    "\\end{equation}\n",
    "\n",
    "Using augumentation matrix, this is written like\n",
    "\n",
    "\\begin{equation}\n",
    "\\left(\\begin{array}{c|cccc}\n",
    "  A & \\vec{e}_1 & \\vec{e}_2 & \\cdots & \\vec{e}_n \\\\\n",
    "\\end{array}\\right)\n",
    "  =\n",
    "\\left(\\begin{array}{c|c}\n",
    "  A & I_{n\\times n} \\\\\n",
    "\\end{array}\\right).\n",
    "\\end{equation}\n",
    "\n",
    "This system can be solved using Gaussian elimination."
   ]
  },
  {
   "cell_type": "markdown",
   "metadata": {
    "collapsed": true
   },
   "source": [
    "## 3.8\n",
    "\n",
    "**Show that if $L$ is an invertible lower-triangular matrix, none of its diagonal elements can be zero.  How does this lemma affect the construction in §3.5.3?**"
   ]
  },
  {
   "cell_type": "markdown",
   "metadata": {},
   "source": [
    "The determinant of a lower-tirangular matrix $L$ is the multiplication of its diagonal element . (This is apparent because row or column elimination on $L$ will yield diagonal matrix without changing the determinant.) If an lower-triangular matrix $L$ includes zero in its diagonal element, the determinant is zero and it is not invertible, which doesn't meet the provided condition."
   ]
  },
  {
   "cell_type": "markdown",
   "metadata": {
    "collapsed": true
   },
   "source": [
    "## 3.9\n",
    "\n",
    "**Show that the inverse of an (invertible) lower-triangular matrix is lower triangular.**"
   ]
  },
  {
   "cell_type": "markdown",
   "metadata": {},
   "source": [
    "From problem 3.8, we know that all of the diagonal element of an invertible lower-triangular matrix $L$ are not zero. Therefore, we only need scale matrix and elimination matrix to make $L$ identity.  If we denote scale or elimination matrix as $M_i$, we can write:\n",
    "\n",
    "\\begin{equation}\n",
    "\\begin{split}\n",
    "  &M_n M_{n-1} \\cdots M_2 M_1 A = I_{n\\times n} \\\\\n",
    "  &\\implies A^{-1} = M_n M_{n-1} \\cdots M_2 M_1\n",
    "\\end{split}\n",
    "\\end{equation}\n",
    "\n",
    "All $M_i$ are lower-triangular matrices.\n",
    "Hence, according to the Proposition 3.1 in pg.60, $A^{-1}$ is also lower-triangular."
   ]
  },
  {
   "cell_type": "markdown",
   "metadata": {
    "collapsed": true
   },
   "source": [
    "##  3.10\n",
    "\n",
    "**Show that any invertible matrix $A \\in \\mathbb{R}^{n \\times n}$ with $a_{11} = 0$ cannot have a factorization $A = LU$ for lower-triangular $L$ and upper-triangular $U$.**"
   ]
  },
  {
   "cell_type": "markdown",
   "metadata": {},
   "source": [
    "An invertible $A$ with $a_{11} = 0$ cannot be factorized to $A = LU$ because forward-substitution fails at the very first step.  However, as I said in Problem 3.1, permutation matrices $P$ will allow the factorization $A = PLU$."
   ]
  },
  {
   "cell_type": "markdown",
   "metadata": {
    "collapsed": true
   },
   "source": [
    "## 3.11\n",
    "\n",
    "**Show how the LU factorization of $A\\in\\mathbb{R}^{n \\times n}$ can be used to compute the determinant of $A$**"
   ]
  },
  {
   "cell_type": "markdown",
   "metadata": {},
   "source": [
    "Since row or column elimnation on any matrix won't change its determinant, the determinant of a lower-or-upper-triangular matrix is the multiplication of all of the diagonal elemnts.  Hence, the determinant of $A = LU$ is the product of each diagonal element of $L$ and $U$. "
   ]
  },
  {
   "cell_type": "code",
   "execution_count": null,
   "metadata": {},
   "outputs": [],
   "source": []
  }
 ],
 "metadata": {
  "_draft": {
   "nbviewer_url": "https://gist.github.com/5ad063853b5b522a1cc8ce9b91d69770"
  },
  "gist": {
   "data": {
    "description": "NumericalAlgorithms/Ch.03 Linear Systems and the LU Decomposition.ipynb",
    "public": true
   },
   "id": "5ad063853b5b522a1cc8ce9b91d69770"
  },
  "hide_input": false,
  "kernelspec": {
   "display_name": "Python 3",
   "language": "python",
   "name": "python3"
  },
  "language_info": {
   "codemirror_mode": {
    "name": "ipython",
    "version": 3
   },
   "file_extension": ".py",
   "mimetype": "text/x-python",
   "name": "python",
   "nbconvert_exporter": "python",
   "pygments_lexer": "ipython3",
   "version": "3.6.3"
  },
  "toc": {
   "colors": {
    "hover_highlight": "#DAA520",
    "navigate_num": "#000000",
    "navigate_text": "#333333",
    "running_highlight": "#FF0000",
    "selected_highlight": "#FFD700",
    "sidebar_border": "#EEEEEE",
    "wrapper_background": "#FFFFFF"
   },
   "moveMenuLeft": true,
   "nav_menu": {
    "height": "12px",
    "width": "252px"
   },
   "navigate_menu": true,
   "number_sections": false,
   "sideBar": true,
   "threshold": 4,
   "toc_cell": false,
   "toc_section_display": "block",
   "toc_window_display": false,
   "widenNotebook": false
  }
 },
 "nbformat": 4,
 "nbformat_minor": 2
}
