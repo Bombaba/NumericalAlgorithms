{
 "cells": [
  {
   "cell_type": "markdown",
   "metadata": {},
   "source": [
    "# 3.6 EXERCISES"
   ]
  },
  {
   "cell_type": "markdown",
   "metadata": {
    "collapsed": true
   },
   "source": [
    "## 3.1\n",
    "\n",
    "** Can all matrices $A \\in \\mathbb{R}^{n \\times n}$ be factored $A = LU$?  Why or why not?**"
   ]
  },
  {
   "cell_type": "markdown",
   "metadata": {
    "collapsed": true
   },
   "source": [
    "No. Normal LU decompostion cannot deal with some matrices (like the one in section 3.2), because in which case a diagonal element becomes 0 while forward-substitution.  However, using permutation matrix $P$ allows factorization to $A = PLU$. "
   ]
  },
  {
   "cell_type": "markdown",
   "metadata": {},
   "source": [
    "## 3.2\n",
    "\n",
    "**Solve the following system of equations using Gaussian elimination, writing the corresponding elimination matrix of each step:$$\n",
    "\\begin{pmatrix}\n",
    "  2 & 4 \\\\\n",
    "  3 & 5 \\\\\n",
    "\\end{pmatrix}\n",
    "\\begin{pmatrix}\n",
    "  x \\\\\n",
    "  y \\\\\n",
    "\\end{pmatrix}\n",
    " = \\begin{pmatrix}\n",
    " 2 \\\\\n",
    " 4 \\\\\n",
    "\\end{pmatrix}\n",
    "$$Factor the matrix on the left-hand side as a product $A = LU$.**"
   ]
  },
  {
   "cell_type": "markdown",
   "metadata": {},
   "source": [
    "Using augmented matrix,\n",
    "\n",
    "\\begin{align}\n",
    "  \\left(\\begin{array}{cc|c}\n",
    "    2 & 4 & 2 \\\\\n",
    "    3 & 5 & 4 \\\\\n",
    "  \\end{array}\\right)\n",
    "  &\\rightarrow\n",
    "  \\left(\\begin{array}{cc|c}\n",
    "    2 & 4 & 2 \\\\\n",
    "    0 & -1 & 1 \\\\\n",
    "  \\end{array}\\right) \\qquad\n",
    "  \\left[\\left(\\begin{array}{cc}\n",
    "    1 & 0 \\\\\n",
    "    -3/2 & 1 \\\\\n",
    "  \\end{array}\\right)\\right] \\\\\n",
    "  &\\rightarrow\n",
    "  \\left(\\begin{array}{cc|c}\n",
    "    1 & 2 &  1 \\\\\n",
    "    0 & 1 & -1 \\\\\n",
    "  \\end{array}\\right) \\qquad\n",
    "  \\left[\\left(\\begin{array}{cc}\n",
    "    1/2 & 0 \\\\\n",
    "    0 & -1 \\\\\n",
    "  \\end{array}\\right)\\right] \\\\\n",
    "  &\\rightarrow\n",
    "  \\left(\\begin{array}{cc|c}\n",
    "    1 & 0 & 3 \\\\\n",
    "    0 & 1 & -1 \\\\\n",
    "  \\end{array}\\right) \\qquad\n",
    "  \\left[\\left(\\begin{array}{cc}\n",
    "    1 & -2 \\\\\n",
    "    0 &  1 \\\\\n",
    "  \\end{array}\\right)\\right] \\\\\n",
    "\\end{align}\n",
    "\n",
    "This process gives us the hint of LU decomposition:\n",
    "\n",
    "\\begin{align}\n",
    "  &\\left(\\begin{array}{cc}\n",
    "    1 & 0 \\\\\n",
    "    -3/2 & 1 \\\\\n",
    "  \\end{array}\\right)\n",
    "  \\left(\\begin{array}{cc}\n",
    "    2 & 4 \\\\\n",
    "    3 & 5 \\\\\n",
    "  \\end{array}\\right)\n",
    "  =\n",
    "  \\left(\\begin{array}{cc}\n",
    "    2 & 4 \\\\\n",
    "    0 & -1 \\\\\n",
    "  \\end{array}\\right) \\\\\n",
    "  &\\iff\n",
    "  \\left(\\begin{array}{cc}\n",
    "    2 & 4 \\\\\n",
    "    3 & 5 \\\\\n",
    "  \\end{array}\\right)\n",
    "  =\n",
    "  \\left(\\begin{array}{cc}\n",
    "    1 & 0 \\\\\n",
    "    3/2 & 1 \\\\\n",
    "  \\end{array}\\right)\n",
    "  \\left(\\begin{array}{cc}\n",
    "    2 & 4 \\\\\n",
    "    0 & -1 \\\\\n",
    "  \\end{array}\\right) \\\\\n",
    "\\end{align}"
   ]
  },
  {
   "cell_type": "markdown",
   "metadata": {},
   "source": [
    "## 3.3\n",
    "\n",
    "**Factor the following matrix $A$ as $A = LU$.$$\n",
    "\\begin{pmatrix}\n",
    "  1 & 2 & 7 \\\\\n",
    "  3 & 5 & -1 \\\\\n",
    "  6 & 1 & 4 \\\\\n",
    "\\end{pmatrix}\n",
    "$$**"
   ]
  },
  {
   "cell_type": "code",
   "execution_count": 15,
   "metadata": {
    "ExecuteTime": {
     "end_time": "2017-11-17T10:34:37.283333Z",
     "start_time": "2017-11-17T10:34:37.262279Z"
    },
    "collapsed": true
   },
   "outputs": [],
   "source": [
    "import numpy as np\n",
    "\n",
    "def lu_without_pivoting(A, compact=False):\n",
    "    \"\"\"Factors A to A = LU\"\"\"\n",
    "    assert A.ndim == 2\n",
    "    A = A.astype(float)\n",
    "    n1, n2 = A.shape\n",
    "    for p in range(n1):\n",
    "        for r in range(p+1, n1):\n",
    "            s = -A[r, p] / A[p, p]\n",
    "            A[r, p] = -s\n",
    "            A[r, p+1:] += s * A[p, p+1:]\n",
    "    if compact:\n",
    "        return A\n",
    "    else:\n",
    "        n_min = min(n1, n2)\n",
    "        L = np.fromfunction(lambda i, j : A*(i > j) + np.eye(n1, n_min),\n",
    "                            shape=(n1, n_min), dtype=float)\n",
    "        U = np.fromfunction(lambda i, j : A*(i <= j),\n",
    "                            shape=(n_min, n2), dtype=float)\n",
    "    return L, U"
   ]
  },
  {
   "cell_type": "code",
   "execution_count": 17,
   "metadata": {
    "ExecuteTime": {
     "end_time": "2017-11-17T10:36:23.282626Z",
     "start_time": "2017-11-17T10:36:23.273577Z"
    }
   },
   "outputs": [
    {
     "name": "stdout",
     "output_type": "stream",
     "text": [
      "L =\n",
      " [[  1.   0.   0.]\n",
      " [  3.   1.   0.]\n",
      " [  6.  11.   1.]]\n",
      "U =\n",
      " [[   1.    2.    7.]\n",
      " [   0.   -1.  -22.]\n",
      " [   0.    0.  204.]]\n"
     ]
    }
   ],
   "source": [
    "A = np.array([\n",
    "    [1, 2, 7],\n",
    "    [3, 5, -1],\n",
    "    [6, 1, 4]\n",
    "])\n",
    "L, U = lu_without_pivoting(A)\n",
    "print(\"L =\\n\", L)\n",
    "print(\"U =\\n\", U)"
   ]
  },
  {
   "cell_type": "markdown",
   "metadata": {},
   "source": [
    "## 3.4\n",
    "\n",
    "**Modify the code in Figure 3.1 to include partial pivoting.**"
   ]
  },
  {
   "cell_type": "code",
   "execution_count": 2,
   "metadata": {
    "ExecuteTime": {
     "end_time": "2017-11-06T05:01:18.046933Z",
     "start_time": "2017-11-06T05:01:15.633269Z"
    },
    "collapsed": true
   },
   "outputs": [],
   "source": [
    "import numpy as np\n",
    "\n",
    "def forward_substitution_pivoting(A, b):\n",
    "    \"\"\" Cnverts a system Ax = b to an upper-triangular system Ux = y.\n",
    "    \n",
    "    Positional arguments:\n",
    "        A -- Invertible numpy array. A.shape == (n, n)\n",
    "        b -- 1-dimensional Numpy array. b.shape == (n, )\n",
    "    \"\"\"\n",
    "    assert A.ndim == 2 and b.ndim == 1 and A.shape[0] == A.shape[1] == b.size\n",
    "    \n",
    "    n = A.shape[0]\n",
    "    \n",
    "    # U will be upper triangular at completion.\n",
    "    U = A.astype(float)\n",
    "    y = b.astype(float)\n",
    "    \n",
    "    # Iterate over current pivot row p.\n",
    "    for p in range(n):\n",
    "        pivot = np.argmax(np.absolute(U[p:, p])) + p\n",
    "        if pivot != p:\n",
    "            U[p], U[pivot] = U[pivot].copy(), U[p].copy()\n",
    "        s = U[p, p]\n",
    "        if s != 0:\n",
    "            y[p] /= s\n",
    "            U[p] /= s\n",
    "\n",
    "            for r in range(p + 1, n):\n",
    "                s = U[r, p]\n",
    "                y[r] -= s * y[p]\n",
    "                U[r] -= s * U[p]\n",
    "    return U, y"
   ]
  },
  {
   "cell_type": "code",
   "execution_count": null,
   "metadata": {
    "collapsed": true
   },
   "outputs": [],
   "source": []
  }
 ],
 "metadata": {
  "_draft": {
   "nbviewer_url": "https://gist.github.com/5ad063853b5b522a1cc8ce9b91d69770"
  },
  "gist": {
   "data": {
    "description": "NumericalAlgorithms/Ch.03 Linear Systems and the LU Decomposition.ipynb",
    "public": true
   },
   "id": "5ad063853b5b522a1cc8ce9b91d69770"
  },
  "hide_input": false,
  "kernelspec": {
   "display_name": "Python 3",
   "language": "python",
   "name": "python3"
  },
  "language_info": {
   "codemirror_mode": {
    "name": "ipython",
    "version": 3
   },
   "file_extension": ".py",
   "mimetype": "text/x-python",
   "name": "python",
   "nbconvert_exporter": "python",
   "pygments_lexer": "ipython3",
   "version": "3.6.2"
  },
  "toc": {
   "colors": {
    "hover_highlight": "#DAA520",
    "navigate_num": "#000000",
    "navigate_text": "#333333",
    "running_highlight": "#FF0000",
    "selected_highlight": "#FFD700",
    "sidebar_border": "#EEEEEE",
    "wrapper_background": "#FFFFFF"
   },
   "moveMenuLeft": true,
   "nav_menu": {
    "height": "12px",
    "width": "252px"
   },
   "navigate_menu": true,
   "number_sections": false,
   "sideBar": true,
   "threshold": 4,
   "toc_cell": false,
   "toc_section_display": "block",
   "toc_window_display": false,
   "widenNotebook": false
  }
 },
 "nbformat": 4,
 "nbformat_minor": 2
}
